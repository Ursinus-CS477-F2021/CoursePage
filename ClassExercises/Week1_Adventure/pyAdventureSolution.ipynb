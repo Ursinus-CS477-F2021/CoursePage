{
 "cells": [
  {
   "cell_type": "markdown",
   "id": "977e90d9",
   "metadata": {},
   "source": [
    "## Adventure Time Solution\n",
    "\n",
    "Below is a solution that uses a dictionary whose keys are the place locations and whose values are themselves dictionaries with two keys/value pairs: the description of that location and a list of places that one can go next.  So a dictionary within a dictionary (<a href = \"https://www.youtube.com/watch?v=YoHD9XEInc0\">dict-ception</a>).  For instance, a data structure with one entry in the dictionary might look like this"
   ]
  },
  {
   "cell_type": "code",
   "execution_count": 1,
   "id": "5f43fb8e",
   "metadata": {},
   "outputs": [
    {
     "name": "stdout",
     "output_type": "stream",
     "text": [
      "The place where you frantically try to get everything ready for class\n"
     ]
    }
   ],
   "source": [
    "places = {\"Office\":{\n",
    "                    \"description\":\"The place where you frantically try to get everything ready for class\",\n",
    "                    \"next\":[\"Kitchen\", \"Bathroom\"]\n",
    "                    }}\n",
    "\n",
    "print(places[\"Office\"][\"description\"]) # Print out the description"
   ]
  },
  {
   "cell_type": "markdown",
   "id": "0c13e92a",
   "metadata": {},
   "source": [
    "Some students chose to make the value a list instead of a dictionary, which is fine.  The only downside is we now need to use some magic number indices to access the description and next place, so it is stylistically not quite as elegant"
   ]
  },
  {
   "cell_type": "code",
   "execution_count": 2,
   "id": "81d162e9",
   "metadata": {},
   "outputs": [],
   "source": [
    "places = {\"Office\":[\"The place where you frantically try to get everything ready for class\", [\"Kitchen\", \"Bathroom\"]]}"
   ]
  },
  {
   "cell_type": "markdown",
   "id": "81d4a09d",
   "metadata": {},
   "source": [
    "Matching braces can be a real pain when we have nested lists/dictionaries like this, so I'm going to break it down by starting over and adding elements one at a time"
   ]
  },
  {
   "cell_type": "code",
   "execution_count": 3,
   "id": "10492046",
   "metadata": {},
   "outputs": [],
   "source": [
    "places = {}\n",
    "places[\"Office\"] = {\"description\":\"The place where you frantically try to get everything ready for class\",\n",
    "                       \"next\":[\"Kitchen\", \"Bathroom\"]}\n",
    "places[\"Bathroom\"] = {\"description\":\"The place you go when nature calls\",\n",
    "                       \"next\":[\"Office\"]}\n",
    "places[\"Kitchen\"] = {\"description\":\"The place where you heat up frozen food and sometimes (but rarely) cook\",\n",
    "                       \"next\":[\"Office\", \"Upstairs Bedroom\", \"Outside\"]}\n",
    "places[\"Outside\"] = {\"description\":\"The place you will go when there is a COVID vaccine\",\n",
    "                       \"next\":[\"Kitchen\"]}\n",
    "places[\"Upstairs Bedroom\"] = {\"description\":\"The place you go rarely when you've finished your work for the day\",\n",
    "                       \"next\":[\"Kitchen\", \"Upstairs Bathroom\"]}\n",
    "places[\"Upstairs Bathroom\"] = {\"description\":\"The higher altitude version of the place you go when nature calls\",\n",
    "                       \"next\":[\"Kitchen\", \"Upstairs Bedroom\"]}"
   ]
  },
  {
   "cell_type": "markdown",
   "id": "9dff8e76",
   "metadata": {},
   "source": [
    "Finally, we can put this together in a while loop that's our game.  We'll make the game end when we end up outside"
   ]
  },
  {
   "cell_type": "code",
   "execution_count": 4,
   "id": "53fde716",
   "metadata": {},
   "outputs": [
    {
     "name": "stdout",
     "output_type": "stream",
     "text": [
      "You are at  Office . The place where you frantically try to get everything ready for class\n",
      "Please type your next destination ['Kitchen', 'Bathroom'] :\n",
      "Bathroom\n",
      "You are at  Bathroom . The place you go when nature calls\n",
      "Please type your next destination ['Office'] :\n",
      "Office\n",
      "You are at  Office . The place where you frantically try to get everything ready for class\n",
      "Please type your next destination ['Kitchen', 'Bathroom'] :\n",
      "Kitchen\n",
      "You are at  Kitchen . The place where you heat up frozen food and sometimes (but rarely) cook\n",
      "Please type your next destination ['Office', 'Upstairs Bedroom', 'Outside'] :\n",
      "Office\n",
      "You are at  Office . The place where you frantically try to get everything ready for class\n",
      "Please type your next destination ['Kitchen', 'Bathroom'] :\n",
      "Kitchen\n",
      "You are at  Kitchen . The place where you heat up frozen food and sometimes (but rarely) cook\n",
      "Please type your next destination ['Office', 'Upstairs Bedroom', 'Outside'] :\n",
      "blah\n",
      "Invalid next location!\n",
      "Please type your next destination ['Office', 'Upstairs Bedroom', 'Outside'] :\n",
      "Upstairs bedroom\n",
      "Invalid next location!\n",
      "Please type your next destination ['Office', 'Upstairs Bedroom', 'Outside'] :\n",
      "Upstairs Bedroom\n",
      "You are at  Upstairs Bedroom . The place you go rarely when you've finished your work for the day\n",
      "Please type your next destination ['Kitchen', 'Upstairs Bathroom'] :\n",
      "Upstairs Bathroom\n",
      "You are at  Upstairs Bathroom . The higher altitude version of the place you go when nature calls\n",
      "Please type your next destination ['Kitchen', 'Upstairs Bedroom'] :\n",
      "Upstairs Bedroom\n",
      "You are at  Upstairs Bedroom . The place you go rarely when you've finished your work for the day\n",
      "Please type your next destination ['Kitchen', 'Upstairs Bathroom'] :\n",
      "Kitchen\n",
      "You are at  Kitchen . The place where you heat up frozen food and sometimes (but rarely) cook\n",
      "Please type your next destination ['Office', 'Upstairs Bedroom', 'Outside'] :\n",
      "Outside\n",
      "You have arrived at  Outside . The place you will go when there is a COVID vaccine\n"
     ]
    }
   ],
   "source": [
    "start = \"Office\"\n",
    "end = \"Outside\"\n",
    "\n",
    "state = start\n",
    "while state != end:\n",
    "    print(\"You are at \", state, \".\", places[state][\"description\"])\n",
    "    nxt = \"\"\n",
    "    while len(nxt) == 0: # Keep looping until we get a valid input\n",
    "        print(\"Please type your next destination\", places[state][\"next\"], \":\")\n",
    "        nxt = input()\n",
    "        if nxt in places[state][\"next\"]:\n",
    "            state = nxt\n",
    "        else:\n",
    "            print(\"Invalid next location!\")\n",
    "            nxt = \"\"\n",
    "\n",
    "print(\"You have arrived at \", end, \".\", places[end][\"description\"])"
   ]
  },
  {
   "cell_type": "code",
   "execution_count": null,
   "id": "59cebeb6",
   "metadata": {},
   "outputs": [],
   "source": []
  }
 ],
 "metadata": {
  "kernelspec": {
   "display_name": "Python 3",
   "language": "python",
   "name": "python3"
  },
  "language_info": {
   "codemirror_mode": {
    "name": "ipython",
    "version": 3
   },
   "file_extension": ".py",
   "mimetype": "text/x-python",
   "name": "python",
   "nbconvert_exporter": "python",
   "pygments_lexer": "ipython3",
   "version": "3.8.8"
  }
 },
 "nbformat": 4,
 "nbformat_minor": 5
}
