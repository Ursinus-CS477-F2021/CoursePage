{
 "cells": [
  {
   "cell_type": "markdown",
   "id": "b11ed5eb",
   "metadata": {},
   "source": [
    "# Python For Loops\n",
    "\n",
    "## CS 477 Class 9/1/2021\n"
   ]
  },
  {
   "cell_type": "markdown",
   "id": "a37bb343",
   "metadata": {},
   "source": [
    "## For loop type #1"
   ]
  },
  {
   "cell_type": "code",
   "execution_count": 1,
   "id": "2264e283",
   "metadata": {},
   "outputs": [
    {
     "name": "stdout",
     "output_type": "stream",
     "text": [
      "10 12 14 16 18 20 22 24 26 28 30 32 34 36 38 40 42 44 46 48 50 52 54 56 58 60 62 64 66 68 70 72 74 76 78 80 82 84 86 88 90 92 94 96 98 "
     ]
    }
   ],
   "source": [
    "# NOTE: Range is like slicing: first:1+last:jump\n",
    "for i in range(10, 100, 2): # for (int i = 10; i < 100; i += 2)\n",
    "    print(i, end = ' ')"
   ]
  },
  {
   "cell_type": "markdown",
   "id": "2a935c5a",
   "metadata": {},
   "source": [
    "## For loop type #2 / #3: Loops That Play with Lists"
   ]
  },
  {
   "cell_type": "code",
   "execution_count": 2,
   "id": "abe8423f",
   "metadata": {},
   "outputs": [
    {
     "name": "stdout",
     "output_type": "stream",
     "text": [
      "chris\t1\t10\t['a', 'b', 'c']\t477\tMarcos\tchris\t1\t10\t['a', 'b', 'c']\t477\tMarcos\tchris\t1\t10\t['a', 'b', 'c']\t477\tMarcos\t"
     ]
    }
   ],
   "source": [
    "x = [\"chris\", 1, 10, [\"a\", \"b\", \"c\"], 477, \"Marcos\"]\n",
    "# Not \"pythonic\"\n",
    "for i in range(0, len(x), 1):\n",
    "    print(x[i], end = '\\t')\n",
    "    \n",
    "# Shorter version of the above\n",
    "for i in range(len(x)):\n",
    "    print(x[i], end = '\\t')\n",
    "    \n",
    "# Much more pythonic\n",
    "for elem in x:\n",
    "    print(elem, end = '\\t')\n",
    "    \n"
   ]
  },
  {
   "cell_type": "code",
   "execution_count": 3,
   "id": "d410e5c2",
   "metadata": {},
   "outputs": [
    {
     "name": "stdout",
     "output_type": "stream",
     "text": [
      "( 0 chris )\t( 1 1 )\t( 2 10 )\t( 3 ['a', 'b', 'c'] )\t( 4 477 )\t( 5 Marcos )\t"
     ]
    }
   ],
   "source": [
    "for i, elem in enumerate(x):\n",
    "    print(\"(\", i, elem, \")\", end='\\t')"
   ]
  },
  {
   "cell_type": "markdown",
   "id": "46fd5bd9",
   "metadata": {},
   "source": [
    "# Python Dictionaries"
   ]
  },
  {
   "cell_type": "code",
   "execution_count": 4,
   "id": "f997afbc",
   "metadata": {},
   "outputs": [
    {
     "name": "stdout",
     "output_type": "stream",
     "text": [
      "['Describes the best teacher out there', 'The best name.']\n"
     ]
    }
   ],
   "source": [
    "# key: value pairs\n",
    "mydict = {\"studious\":\"Hard working, diligent, steadfast\",\n",
    "          0:\"a number that tooks us a while to discover\",\n",
    "          \"a list\":[1, 2, 3, 4]}\n",
    "\n",
    "\n",
    "mydict[\"chris\"] = \"The coolest name out there.\" # Add on the fly\n",
    "\n",
    "del mydict[0] # Delete something on the fly\n",
    "\n",
    "mydict[\"chris\"] = [\"Describes the best teacher out there\", \"The best name.\"]\n",
    "\n",
    "print(mydict[\"chris\"])"
   ]
  },
  {
   "cell_type": "code",
   "execution_count": 5,
   "id": "d5e8abd1",
   "metadata": {},
   "outputs": [
    {
     "name": "stdout",
     "output_type": "stream",
     "text": [
      "chris is there\n"
     ]
    }
   ],
   "source": [
    "if \"chris\" in mydict: # Is a key there\n",
    "    print(\"chris is there\")\n",
    "else:\n",
    "    print(\"Chris is not there\")"
   ]
  },
  {
   "cell_type": "code",
   "execution_count": 6,
   "id": "64b9aaa1",
   "metadata": {},
   "outputs": [
    {
     "name": "stdout",
     "output_type": "stream",
     "text": [
      "studious Hard working, diligent, steadfast\n",
      "a list [1, 2, 3, 4]\n",
      "chris ['Describes the best teacher out there', 'The best name.']\n"
     ]
    }
   ],
   "source": [
    "# Loop through the keys\n",
    "for key in mydict:\n",
    "    print(key, mydict[key])"
   ]
  },
  {
   "cell_type": "code",
   "execution_count": 7,
   "id": "dfc142f3",
   "metadata": {},
   "outputs": [
    {
     "name": "stdout",
     "output_type": "stream",
     "text": [
      "['chris', 1, 10, ['a', 'b', 'c'], 477, 'Marcos']\n"
     ]
    }
   ],
   "source": [
    "print(x)"
   ]
  }
 ],
 "metadata": {
  "kernelspec": {
   "display_name": "Python 3",
   "language": "python",
   "name": "python3"
  },
  "language_info": {
   "codemirror_mode": {
    "name": "ipython",
    "version": 3
   },
   "file_extension": ".py",
   "mimetype": "text/x-python",
   "name": "python",
   "nbconvert_exporter": "python",
   "pygments_lexer": "ipython3",
   "version": "3.8.8"
  }
 },
 "nbformat": 4,
 "nbformat_minor": 5
}
